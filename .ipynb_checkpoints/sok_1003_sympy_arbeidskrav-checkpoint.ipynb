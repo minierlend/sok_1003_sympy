{
 "cells": [
  {
   "cell_type": "code",
   "execution_count": 3,
   "id": "4c76d138-b576-4766-aad6-aa7b6d2a8829",
   "metadata": {},
   "outputs": [],
   "source": [
    "import sympy as sp\n",
    "x,y=sp.symbols('x y')"
   ]
  },
  {
   "cell_type": "code",
   "execution_count": 8,
   "id": "fde096f0-c24f-424e-a31c-a82f75a4b52d",
   "metadata": {},
   "outputs": [
    {
     "data": {
      "text/latex": [
       "$\\displaystyle 2 x + 4 y = 6$"
      ],
      "text/plain": [
       "Eq(2*x + 4*y, 6)"
      ]
     },
     "execution_count": 8,
     "metadata": {},
     "output_type": "execute_result"
    }
   ],
   "source": [
    "#oppgave 15 a)\n",
    "eq1=sp.Eq(2*x +4*y,6)\n",
    "eq1"
   ]
  },
  {
   "cell_type": "code",
   "execution_count": 9,
   "id": "464ddae2-1a94-4055-bdee-96f8e5b9a1ff",
   "metadata": {},
   "outputs": [
    {
     "data": {
      "text/latex": [
       "$\\displaystyle - 2 x + y = 4$"
      ],
      "text/plain": [
       "Eq(-2*x + y, 4)"
      ]
     },
     "execution_count": 9,
     "metadata": {},
     "output_type": "execute_result"
    }
   ],
   "source": [
    "eq2=sp.Eq(-2*x + y,4)\n",
    "eq2"
   ]
  },
  {
   "cell_type": "code",
   "execution_count": 7,
   "id": "76cf3a0c-25ea-4df6-922d-71796573ae10",
   "metadata": {},
   "outputs": [
    {
     "data": {
      "text/plain": [
       "[(0, -4), (0, 4), (15, -1), (15, 1)]"
      ]
     },
     "execution_count": 7,
     "metadata": {},
     "output_type": "execute_result"
    }
   ],
   "source": [
    "from sympy.solvers import solve\n",
    "sol=solve([eq1,eq2],[x,y])\n",
    "sol"
   ]
  },
  {
   "cell_type": "code",
   "execution_count": 13,
   "id": "de347818-2ab4-490e-a3e4-247ea0588bf0",
   "metadata": {},
   "outputs": [
    {
     "data": {
      "text/latex": [
       "$\\displaystyle \\text{True}$"
      ],
      "text/plain": [
       "True"
      ]
     },
     "execution_count": 13,
     "metadata": {},
     "output_type": "execute_result"
    }
   ],
   "source": [
    "eq2.subs(sol)"
   ]
  },
  {
   "cell_type": "code",
   "execution_count": 15,
   "id": "5c488209-fc0d-456c-a6e7-03e47cd48d84",
   "metadata": {},
   "outputs": [
    {
     "data": {
      "text/latex": [
       "$\\displaystyle \\text{True}$"
      ],
      "text/plain": [
       "True"
      ]
     },
     "execution_count": 15,
     "metadata": {},
     "output_type": "execute_result"
    }
   ],
   "source": [
    "eq1.subs(sol)"
   ]
  },
  {
   "cell_type": "code",
   "execution_count": 17,
   "id": "6daacf2d-675b-46f5-a867-88141f154808",
   "metadata": {},
   "outputs": [
    {
     "data": {
      "text/latex": [
       "$\\displaystyle 2 x - y = 1$"
      ],
      "text/plain": [
       "Eq(2*x - y, 1)"
      ]
     },
     "execution_count": 17,
     "metadata": {},
     "output_type": "execute_result"
    }
   ],
   "source": [
    "#oppgave 15b)\n",
    "eq1=sp.Eq(2*x - y,1)\n",
    "eq1"
   ]
  },
  {
   "cell_type": "code",
   "execution_count": 18,
   "id": "1dea97df-e828-497c-88c0-dca21f1222e6",
   "metadata": {},
   "outputs": [
    {
     "data": {
      "text/latex": [
       "$\\displaystyle x^{2} + x - y = 1$"
      ],
      "text/plain": [
       "Eq(x**2 + x - y, 1)"
      ]
     },
     "execution_count": 18,
     "metadata": {},
     "output_type": "execute_result"
    }
   ],
   "source": [
    "eq2=sp.Eq(x**2 + x - y,1)\n",
    "eq2"
   ]
  },
  {
   "cell_type": "code",
   "execution_count": 19,
   "id": "55d95939-9059-40fa-a5e3-1b664a6d95c1",
   "metadata": {},
   "outputs": [
    {
     "data": {
      "text/plain": [
       "[(0, -1), (1, 1)]"
      ]
     },
     "execution_count": 19,
     "metadata": {},
     "output_type": "execute_result"
    }
   ],
   "source": [
    "sol=solve([eq1,eq2], [x,y])\n",
    "sol"
   ]
  },
  {
   "cell_type": "code",
   "execution_count": 27,
   "id": "25be0073-b0dc-4fc5-a3a8-9bd2bcd1798d",
   "metadata": {},
   "outputs": [
    {
     "data": {
      "text/latex": [
       "$\\displaystyle 3 x - 12 = - 6 y$"
      ],
      "text/plain": [
       "Eq(3*x - 12, -6*y)"
      ]
     },
     "execution_count": 27,
     "metadata": {},
     "output_type": "execute_result"
    }
   ],
   "source": [
    "#oppgave 15,2,a)\n",
    "eq1=sp.Eq(3*x - 12, -6*y)\n",
    "eq1"
   ]
  },
  {
   "cell_type": "markdown",
   "id": "175a506b-3cea-4c67-923b-0cb00a832cc3",
   "metadata": {},
   "source": []
  },
  {
   "cell_type": "code",
   "execution_count": 28,
   "id": "166290f5-c413-4963-9168-ac9563dec5bc",
   "metadata": {},
   "outputs": [
    {
     "data": {
      "text/latex": [
       "$\\displaystyle 4 x - 8 y = 16$"
      ],
      "text/plain": [
       "Eq(4*x - 8*y, 16)"
      ]
     },
     "execution_count": 28,
     "metadata": {},
     "output_type": "execute_result"
    }
   ],
   "source": [
    "eq2=sp.Eq(4*x - 8*y,16)\n",
    "eq2"
   ]
  },
  {
   "cell_type": "code",
   "execution_count": 29,
   "id": "06048eb6-f7e0-4081-b073-0579de81a79e",
   "metadata": {},
   "outputs": [
    {
     "data": {
      "text/plain": [
       "{x: 4, y: 0}"
      ]
     },
     "execution_count": 29,
     "metadata": {},
     "output_type": "execute_result"
    }
   ],
   "source": [
    "sol=solve([eq1,eq2], [x,y])\n",
    "sol"
   ]
  },
  {
   "cell_type": "code",
   "execution_count": 33,
   "id": "5eab1c93-b120-40d3-801f-40529ddb7a2e",
   "metadata": {},
   "outputs": [
    {
     "data": {
      "text/latex": [
       "$\\displaystyle x^{2} + 4 x - 3 = 3 y$"
      ],
      "text/plain": [
       "Eq(x**2 + 4*x - 3, 3*y)"
      ]
     },
     "execution_count": 33,
     "metadata": {},
     "output_type": "execute_result"
    }
   ],
   "source": [
    "#oppgave 15,2,b)\n",
    "eq1=sp.Eq(x**2 + 4*x - 3,3*y)\n",
    "eq1"
   ]
  },
  {
   "cell_type": "code",
   "execution_count": 34,
   "id": "8e6a2618-44f5-4ddc-bde4-4794b7acbbb4",
   "metadata": {},
   "outputs": [
    {
     "data": {
      "text/latex": [
       "$\\displaystyle 2 y = 8 - x$"
      ],
      "text/plain": [
       "Eq(2*y, 8 - x)"
      ]
     },
     "execution_count": 34,
     "metadata": {},
     "output_type": "execute_result"
    }
   ],
   "source": [
    "eq2=sp.Eq(2*y,8-x)\n",
    "eq2"
   ]
  },
  {
   "cell_type": "code",
   "execution_count": 35,
   "id": "55abc2f6-1008-459d-85e8-453d7944f395",
   "metadata": {},
   "outputs": [
    {
     "data": {
      "text/plain": [
       "[(-15/2, 31/4), (2, 3)]"
      ]
     },
     "execution_count": 35,
     "metadata": {},
     "output_type": "execute_result"
    }
   ],
   "source": [
    "sol=solve([eq1,eq2], [x,y])\n",
    "sol"
   ]
  },
  {
   "cell_type": "code",
   "execution_count": 36,
   "id": "108002fc-6b03-49f0-9572-ea791a97bac3",
   "metadata": {},
   "outputs": [
    {
     "data": {
      "text/latex": [
       "$\\displaystyle 4 x + 2 y = 12$"
      ],
      "text/plain": [
       "Eq(4*x + 2*y, 12)"
      ]
     },
     "execution_count": 36,
     "metadata": {},
     "output_type": "execute_result"
    }
   ],
   "source": [
    "#oppave 16a)\n",
    "eq1=sp.Eq(4*x + 2*y, 12)\n",
    "eq1"
   ]
  },
  {
   "cell_type": "code",
   "execution_count": 37,
   "id": "b070df71-3283-4e1f-9360-517635f5146d",
   "metadata": {},
   "outputs": [
    {
     "data": {
      "text/latex": [
       "$\\displaystyle 6 x - 2 y = 8$"
      ],
      "text/plain": [
       "Eq(6*x - 2*y, 8)"
      ]
     },
     "execution_count": 37,
     "metadata": {},
     "output_type": "execute_result"
    }
   ],
   "source": [
    "eq2=sp.Eq(6*x - 2*y,8)\n",
    "eq2"
   ]
  },
  {
   "cell_type": "code",
   "execution_count": 38,
   "id": "c5b83b33-5ff7-40f8-a74e-8d09ed0eb5af",
   "metadata": {},
   "outputs": [
    {
     "data": {
      "text/plain": [
       "{x: 2, y: 2}"
      ]
     },
     "execution_count": 38,
     "metadata": {},
     "output_type": "execute_result"
    }
   ],
   "source": [
    "sol=solve([eq1,eq2], [x,y])\n",
    "sol"
   ]
  },
  {
   "cell_type": "code",
   "execution_count": 39,
   "id": "4f5e095b-24fb-4f3c-9350-b5b85ab0b902",
   "metadata": {},
   "outputs": [
    {
     "data": {
      "text/latex": [
       "$\\displaystyle 2 x + y^{2} = 25$"
      ],
      "text/plain": [
       "Eq(2*x + y**2, 25)"
      ]
     },
     "execution_count": 39,
     "metadata": {},
     "output_type": "execute_result"
    }
   ],
   "source": [
    "#oppgave 16b)\n",
    "eq1=sp.Eq(2*x + y**2,25)\n",
    "eq1"
   ]
  },
  {
   "cell_type": "code",
   "execution_count": 41,
   "id": "4a7a8eba-ba0d-43da-a53d-adba3c529827",
   "metadata": {},
   "outputs": [
    {
     "data": {
      "text/latex": [
       "$\\displaystyle x - 2 y = 10$"
      ],
      "text/plain": [
       "Eq(x - 2*y, 10)"
      ]
     },
     "execution_count": 41,
     "metadata": {},
     "output_type": "execute_result"
    }
   ],
   "source": [
    "eq2=sp.Eq(x - 2*y, 10)\n",
    "eq2"
   ]
  },
  {
   "cell_type": "code",
   "execution_count": 42,
   "id": "486b7b0a-1b68-49b2-9cca-5f9abdacaca0",
   "metadata": {},
   "outputs": [
    {
     "data": {
      "text/plain": [
       "[(0, -5), (12, 1)]"
      ]
     },
     "execution_count": 42,
     "metadata": {},
     "output_type": "execute_result"
    }
   ],
   "source": [
    "sol=solve([eq1,eq2], [x,y])\n",
    "sol"
   ]
  },
  {
   "cell_type": "code",
   "execution_count": 62,
   "id": "01a77365-6ec2-4987-8ad4-a884135db565",
   "metadata": {},
   "outputs": [
    {
     "data": {
      "text/latex": [
       "$\\displaystyle 4 x - 4 y = 8$"
      ],
      "text/plain": [
       "Eq(4*x - 4*y, 8)"
      ]
     },
     "execution_count": 62,
     "metadata": {},
     "output_type": "execute_result"
    }
   ],
   "source": [
    "#oppgave 16,2,a)\n",
    "eq1=sp.Eq(4*x - 4*y,8)\n",
    "eq1"
   ]
  },
  {
   "cell_type": "code",
   "execution_count": 63,
   "id": "b9eef8f2-2c14-4e6c-b131-d034906cb8e7",
   "metadata": {},
   "outputs": [
    {
     "data": {
      "text/latex": [
       "$\\displaystyle 9 x - 5 y = 26$"
      ],
      "text/plain": [
       "Eq(9*x - 5*y, 26)"
      ]
     },
     "execution_count": 63,
     "metadata": {},
     "output_type": "execute_result"
    }
   ],
   "source": [
    "eq2=sp.Eq(9*x - 5*y, 26)\n",
    "eq2"
   ]
  },
  {
   "cell_type": "code",
   "execution_count": 64,
   "id": "acfa3b74-9fc1-4fb6-9538-44a32a3ab98e",
   "metadata": {},
   "outputs": [
    {
     "data": {
      "text/plain": [
       "{x: 4, y: 2}"
      ]
     },
     "execution_count": 64,
     "metadata": {},
     "output_type": "execute_result"
    }
   ],
   "source": [
    "sol=solve([eq1,eq2], [x,y])\n",
    "sol"
   ]
  },
  {
   "cell_type": "code",
   "execution_count": 57,
   "id": "9fc71964-4e61-4c13-ac54-22ce93f5f6b5",
   "metadata": {},
   "outputs": [
    {
     "data": {
      "text/latex": [
       "$\\displaystyle x + 2 y^{2} = 15$"
      ],
      "text/plain": [
       "Eq(x + 2*y**2, 15)"
      ]
     },
     "execution_count": 57,
     "metadata": {},
     "output_type": "execute_result"
    }
   ],
   "source": [
    "#oppgave 16,2,b)\n",
    "eq1=sp.Eq(x +2*y**2,15)\n",
    "eq1"
   ]
  },
  {
   "cell_type": "code",
   "execution_count": 58,
   "id": "56afe79f-aa3e-4e37-bbe6-fde07f38858d",
   "metadata": {},
   "outputs": [
    {
     "data": {
      "text/latex": [
       "$\\displaystyle x^{2} - 4 y^{2} = 33$"
      ],
      "text/plain": [
       "Eq(x**2 - 4*y**2, 33)"
      ]
     },
     "execution_count": 58,
     "metadata": {},
     "output_type": "execute_result"
    }
   ],
   "source": [
    "eq2=sp.Eq(x**2 - 4*y**2,33)\n",
    "eq2"
   ]
  },
  {
   "cell_type": "code",
   "execution_count": 59,
   "id": "f708373a-20d8-4add-b85f-e65c29500c8d",
   "metadata": {},
   "outputs": [
    {
     "data": {
      "text/plain": [
       "[(-9, -2*sqrt(3)), (-9, 2*sqrt(3)), (7, -2), (7, 2)]"
      ]
     },
     "execution_count": 59,
     "metadata": {},
     "output_type": "execute_result"
    }
   ],
   "source": [
    "sol=solve([eq1,eq2], [x,y])\n",
    "sol"
   ]
  },
  {
   "cell_type": "code",
   "execution_count": 4,
   "id": "55c67ef7-e740-498f-91d8-20b3a71f6197",
   "metadata": {},
   "outputs": [
    {
     "data": {
      "text/latex": [
       "$\\displaystyle x y^{2} - x = 0$"
      ],
      "text/plain": [
       "Eq(x*y**2 - x, 0)"
      ]
     },
     "execution_count": 4,
     "metadata": {},
     "output_type": "execute_result"
    }
   ],
   "source": [
    "#oppgave 17,1,a)\n",
    "eq1=sp.Eq(x*y**2 - x,0)\n",
    "eq1"
   ]
  },
  {
   "cell_type": "code",
   "execution_count": 5,
   "id": "ce1d1bb9-d256-4f36-873d-6233e1f284f8",
   "metadata": {},
   "outputs": [
    {
     "data": {
      "text/latex": [
       "$\\displaystyle x + y^{2} = 16$"
      ],
      "text/plain": [
       "Eq(x + y**2, 16)"
      ]
     },
     "execution_count": 5,
     "metadata": {},
     "output_type": "execute_result"
    }
   ],
   "source": [
    "eq2=sp.Eq(x + y**2,16)\n",
    "eq2"
   ]
  },
  {
   "cell_type": "code",
   "execution_count": 8,
   "id": "4b6ed99d-1dae-4575-8030-6a3261f2b197",
   "metadata": {},
   "outputs": [
    {
     "data": {
      "text/plain": [
       "[(0, -4), (0, 4), (15, -1), (15, 1)]"
      ]
     },
     "execution_count": 8,
     "metadata": {},
     "output_type": "execute_result"
    }
   ],
   "source": [
    "sol=solve([eq1,eq2], [x,y])\n",
    "sol"
   ]
  },
  {
   "cell_type": "code",
   "execution_count": 9,
   "id": "cb5099d4-0f27-4cdd-99fb-f45f11bebcaf",
   "metadata": {},
   "outputs": [
    {
     "data": {
      "text/latex": [
       "$\\displaystyle x^{2} + y^{2} = 100$"
      ],
      "text/plain": [
       "Eq(x**2 + y**2, 100)"
      ]
     },
     "execution_count": 9,
     "metadata": {},
     "output_type": "execute_result"
    }
   ],
   "source": [
    "#oppgave 17,1,b)\n",
    "\n",
    "eq1=sp.Eq(x**2 + y**2, 100)\n",
    "eq1"
   ]
  },
  {
   "cell_type": "code",
   "execution_count": 11,
   "id": "508e664c-0a2e-4c41-994d-bba245e80210",
   "metadata": {},
   "outputs": [
    {
     "data": {
      "text/latex": [
       "$\\displaystyle x^{2} y - 36 y = 0$"
      ],
      "text/plain": [
       "Eq(x**2*y - 36*y, 0)"
      ]
     },
     "execution_count": 11,
     "metadata": {},
     "output_type": "execute_result"
    }
   ],
   "source": [
    "eq2=sp.Eq(x**2*y - 36*y,0)\n",
    "eq2"
   ]
  },
  {
   "cell_type": "code",
   "execution_count": 12,
   "id": "44f5273b-09a1-491f-b608-ba6f9b2e8f58",
   "metadata": {},
   "outputs": [
    {
     "data": {
      "text/plain": [
       "[(-10, 0), (-6, -8), (-6, 8), (6, -8), (6, 8), (10, 0)]"
      ]
     },
     "execution_count": 12,
     "metadata": {},
     "output_type": "execute_result"
    }
   ],
   "source": [
    "sol=solve([eq1,eq2], [x,y])\n",
    "sol"
   ]
  },
  {
   "cell_type": "code",
   "execution_count": 13,
   "id": "c7c3e782-602d-4b93-a051-bd307e445575",
   "metadata": {},
   "outputs": [
    {
     "data": {
      "text/latex": [
       "$\\displaystyle x y^{2} - 49 x = 0$"
      ],
      "text/plain": [
       "Eq(x*y**2 - 49*x, 0)"
      ]
     },
     "execution_count": 13,
     "metadata": {},
     "output_type": "execute_result"
    }
   ],
   "source": [
    "#Oppgave 17,2,a)\n",
    "\n",
    "eq1=sp.Eq(x*y**2 - 49*x,0)\n",
    "eq1"
   ]
  },
  {
   "cell_type": "code",
   "execution_count": 15,
   "id": "5b03f3d6-03ed-4a85-8b16-728956bad851",
   "metadata": {},
   "outputs": [
    {
     "data": {
      "text/latex": [
       "$\\displaystyle x^{2} + y^{2} = 58$"
      ],
      "text/plain": [
       "Eq(x**2 + y**2, 58)"
      ]
     },
     "execution_count": 15,
     "metadata": {},
     "output_type": "execute_result"
    }
   ],
   "source": [
    "eq2=sp.Eq(x**2 + y**2,58)\n",
    "eq2"
   ]
  },
  {
   "cell_type": "code",
   "execution_count": 16,
   "id": "8a222974-062b-430c-9f0c-94b597e35358",
   "metadata": {},
   "outputs": [
    {
     "data": {
      "text/plain": [
       "[(-3, -7), (-3, 7), (0, -sqrt(58)), (0, sqrt(58)), (3, -7), (3, 7)]"
      ]
     },
     "execution_count": 16,
     "metadata": {},
     "output_type": "execute_result"
    }
   ],
   "source": [
    "sol=solve([eq1,eq2], [x,y])\n",
    "sol"
   ]
  },
  {
   "cell_type": "code",
   "execution_count": 18,
   "id": "3eb529a9-8230-4d7b-b2e7-493d63fef9d8",
   "metadata": {},
   "outputs": [
    {
     "data": {
      "text/latex": [
       "$\\displaystyle x^{2} + y^{2} = 1.25$"
      ],
      "text/plain": [
       "Eq(x**2 + y**2, 1.25)"
      ]
     },
     "execution_count": 18,
     "metadata": {},
     "output_type": "execute_result"
    }
   ],
   "source": [
    "#oppgave 17,2,b)\n",
    "\n",
    "eq1=sp.Eq(x**2 + y**2, 5/4)\n",
    "eq1"
   ]
  },
  {
   "cell_type": "code",
   "execution_count": 19,
   "id": "2d88ba6f-225b-4daf-8691-7b5332ca68b7",
   "metadata": {},
   "outputs": [
    {
     "data": {
      "text/latex": [
       "$\\displaystyle 2 x y + y = 0$"
      ],
      "text/plain": [
       "Eq(2*x*y + y, 0)"
      ]
     },
     "execution_count": 19,
     "metadata": {},
     "output_type": "execute_result"
    }
   ],
   "source": [
    "eq2=sp.Eq(2*x*y + y,0)\n",
    "eq2"
   ]
  },
  {
   "cell_type": "code",
   "execution_count": 20,
   "id": "4ef7942d-f19c-4a83-a9d4-4c57957bf67f",
   "metadata": {},
   "outputs": [
    {
     "data": {
      "text/plain": [
       "[(-1.11803398874989, 0.0),\n",
       " (-0.500000000000000, -1.00000000000000),\n",
       " (-0.500000000000000, 1.00000000000000),\n",
       " (1.11803398874989, 0.0)]"
      ]
     },
     "execution_count": 20,
     "metadata": {},
     "output_type": "execute_result"
    }
   ],
   "source": [
    "sol=solve([eq1,eq2], [x,y])\n",
    "sol"
   ]
  },
  {
   "cell_type": "code",
   "execution_count": 30,
   "id": "aa13c379-e178-4f64-8728-d136214a8b7a",
   "metadata": {},
   "outputs": [
    {
     "data": {
      "text/latex": [
       "$\\displaystyle 5 x^{4}$"
      ],
      "text/plain": [
       "5*x**4"
      ]
     },
     "execution_count": 30,
     "metadata": {},
     "output_type": "execute_result"
    }
   ],
   "source": [
    "#oppgave 19,1,a)\n",
    "x=sp.symbols (\"x\")\n",
    "f=sp.diff(x**5)\n",
    "f"
   ]
  },
  {
   "cell_type": "code",
   "execution_count": 32,
   "id": "fb1a6b1a-9358-4b2f-870b-a81fceb9f99c",
   "metadata": {},
   "outputs": [
    {
     "data": {
      "text/latex": [
       "$\\displaystyle 1$"
      ],
      "text/plain": [
       "1"
      ]
     },
     "execution_count": 32,
     "metadata": {},
     "output_type": "execute_result"
    }
   ],
   "source": [
    "#oppgave 19,1,b)\n",
    "x=sp.symbols (\"x\")\n",
    "f=sp.diff(x+12)\n",
    "f"
   ]
  },
  {
   "cell_type": "code",
   "execution_count": 33,
   "id": "75a476ab-1f52-4cca-a13f-587ce7b31c16",
   "metadata": {},
   "outputs": [
    {
     "data": {
      "text/latex": [
       "$\\displaystyle 3 x^{2} + 8 x$"
      ],
      "text/plain": [
       "3*x**2 + 8*x"
      ]
     },
     "execution_count": 33,
     "metadata": {},
     "output_type": "execute_result"
    }
   ],
   "source": [
    "#oppgave 19,1,c)\n",
    "\n",
    "x=sp.symbols (\"x\")\n",
    "f=sp.diff(x**3 + 4*x**2)\n",
    "f"
   ]
  },
  {
   "cell_type": "code",
   "execution_count": 37,
   "id": "40fba8ba-0a18-4bee-9965-e0e0ada2ad0b",
   "metadata": {},
   "outputs": [
    {
     "data": {
      "text/latex": [
       "$\\displaystyle 6 x^{2}$"
      ],
      "text/plain": [
       "6*x**2"
      ]
     },
     "execution_count": 37,
     "metadata": {},
     "output_type": "execute_result"
    }
   ],
   "source": [
    "#oppgave19,1,d)\n",
    "x=sp.symbols (\"x\")\n",
    "f=sp.diff(2*x**3 + 1/2*36)\n",
    "f"
   ]
  },
  {
   "cell_type": "code",
   "execution_count": 38,
   "id": "d818a1de-7f6d-4bc7-bf97-d3b3340a5907",
   "metadata": {},
   "outputs": [
    {
     "data": {
      "text/latex": [
       "$\\displaystyle 0.5$"
      ],
      "text/plain": [
       "0.500000000000000"
      ]
     },
     "execution_count": 38,
     "metadata": {},
     "output_type": "execute_result"
    }
   ],
   "source": [
    "#oppgave 19,1,e)\n",
    "x=sp.symbols (\"x\")\n",
    "f=sp.diff(1/2*x + 5**2)\n",
    "f"
   ]
  },
  {
   "cell_type": "code",
   "execution_count": 39,
   "id": "67707000-4a69-475f-a906-8f5f32715cd5",
   "metadata": {},
   "outputs": [
    {
     "data": {
      "text/latex": [
       "$\\displaystyle 3 x^{2} - \\frac{1}{x^{2}}$"
      ],
      "text/plain": [
       "3*x**2 - 1/x**2"
      ]
     },
     "execution_count": 39,
     "metadata": {},
     "output_type": "execute_result"
    }
   ],
   "source": [
    "#oppgave 19,1,f)\n",
    "x=sp.symbols (\"x\")\n",
    "f=sp.diff(x**3 + 1/x)\n",
    "f"
   ]
  },
  {
   "cell_type": "code",
   "execution_count": 40,
   "id": "75aefde6-5003-4569-a988-463f01f7a2a3",
   "metadata": {},
   "outputs": [
    {
     "data": {
      "text/latex": [
       "$\\displaystyle 3 x^{2} - 2 x + 0.25$"
      ],
      "text/plain": [
       "3*x**2 - 2*x + 0.25"
      ]
     },
     "execution_count": 40,
     "metadata": {},
     "output_type": "execute_result"
    }
   ],
   "source": [
    "#oppgave 19,1,g)\n",
    "x=sp.symbols (\"x\")\n",
    "f=sp.diff(x**3 -x**2 + 1/4*x)\n",
    "f"
   ]
  },
  {
   "cell_type": "code",
   "execution_count": 41,
   "id": "bcf80bdb-d847-4c92-89a1-69dbf988c850",
   "metadata": {},
   "outputs": [
    {
     "data": {
      "text/latex": [
       "$\\displaystyle 30 x^{5} - \\frac{1}{x^{2}}$"
      ],
      "text/plain": [
       "30*x**5 - 1/x**2"
      ]
     },
     "execution_count": 41,
     "metadata": {},
     "output_type": "execute_result"
    }
   ],
   "source": [
    "#oppgave 19,2a)\n",
    "x=sp.symbols (\"x\")\n",
    "f=sp.diff(1/x + 5*x**6)\n",
    "f"
   ]
  },
  {
   "cell_type": "code",
   "execution_count": 42,
   "id": "67a082c2-4050-4914-b1b2-ba2b76d9a58c",
   "metadata": {},
   "outputs": [
    {
     "data": {
      "text/latex": [
       "$\\displaystyle 1.5 x^{2} - 1$"
      ],
      "text/plain": [
       "1.5*x**2 - 1"
      ]
     },
     "execution_count": 42,
     "metadata": {},
     "output_type": "execute_result"
    }
   ],
   "source": [
    "#oppgave 19,2,b)\n",
    "x=sp.symbols (\"x\")\n",
    "f=sp.diff(-x + 1/2*x**3)\n",
    "f"
   ]
  },
  {
   "cell_type": "code",
   "execution_count": 45,
   "id": "211118c3-1a31-43b2-92dc-bda507a0cab0",
   "metadata": {},
   "outputs": [
    {
     "data": {
      "text/latex": [
       "$\\displaystyle x^{2} + x \\left(2 x + 2\\right) + 2 x - 3$"
      ],
      "text/plain": [
       "x**2 + x*(2*x + 2) + 2*x - 3"
      ]
     },
     "execution_count": 45,
     "metadata": {},
     "output_type": "execute_result"
    }
   ],
   "source": [
    "#oppgave 19,2,c)\n",
    "x=sp.symbols (\"x\")\n",
    "f=sp.diff(x*(x**2 +2*x-3))\n",
    "f"
   ]
  },
  {
   "cell_type": "code",
   "execution_count": 46,
   "id": "be4e21ae-41ce-4ec4-a474-efaac7ab113d",
   "metadata": {},
   "outputs": [
    {
     "data": {
      "text/latex": [
       "$\\displaystyle 9 x^{8}$"
      ],
      "text/plain": [
       "9*x**8"
      ]
     },
     "execution_count": 46,
     "metadata": {},
     "output_type": "execute_result"
    }
   ],
   "source": [
    "#oppgave 20,1,e)\n",
    "x=sp.symbols (\"x\")\n",
    "f=sp.diff(x**4 * x**5)\n",
    "f"
   ]
  },
  {
   "cell_type": "code",
   "execution_count": 47,
   "id": "d32be30a-08c1-4291-a72b-c22a384b515d",
   "metadata": {},
   "outputs": [
    {
     "data": {
      "text/latex": [
       "$\\displaystyle x$"
      ],
      "text/plain": [
       "x"
      ]
     },
     "execution_count": 47,
     "metadata": {},
     "output_type": "execute_result"
    }
   ],
   "source": [
    "#oppgave 20,1,f)\n",
    "x=sp.symbols (\"x\")\n",
    "f=sp.diff(x * 1/2*x)\n",
    "f"
   ]
  },
  {
   "cell_type": "code",
   "execution_count": 48,
   "id": "4f4d62fc-7d0b-47e3-abd6-308171320df7",
   "metadata": {},
   "outputs": [
    {
     "data": {
      "text/latex": [
       "$\\displaystyle - \\frac{6}{x^{4}}$"
      ],
      "text/plain": [
       "-6/x**4"
      ]
     },
     "execution_count": 48,
     "metadata": {},
     "output_type": "execute_result"
    }
   ],
   "source": [
    "#oppgave 20,1,g)\n",
    "x=sp.symbols (\"x\")\n",
    "f=sp.diff(2/x**3)\n",
    "f"
   ]
  },
  {
   "cell_type": "code",
   "execution_count": 49,
   "id": "638a8eb3-bd47-4eff-8793-1f3de04fa146",
   "metadata": {},
   "outputs": [
    {
     "data": {
      "text/latex": [
       "$\\displaystyle 2 x + \\frac{6}{x^{4}}$"
      ],
      "text/plain": [
       "2*x + 6/x**4"
      ]
     },
     "execution_count": 49,
     "metadata": {},
     "output_type": "execute_result"
    }
   ],
   "source": [
    "#oppgave 20,1,h)\n",
    "x=sp.symbols (\"x\")\n",
    "f=sp.diff(x**2 - 2/x**3)\n",
    "f"
   ]
  },
  {
   "cell_type": "code",
   "execution_count": 50,
   "id": "b41b3778-f2c8-41ba-8187-f401efef81fe",
   "metadata": {},
   "outputs": [
    {
     "data": {
      "text/latex": [
       "$\\displaystyle 3.5 x^{6}$"
      ],
      "text/plain": [
       "3.5*x**6"
      ]
     },
     "execution_count": 50,
     "metadata": {},
     "output_type": "execute_result"
    }
   ],
   "source": [
    "#oppgave 20,1,i)\n",
    "f=sp.diff(1/2*x * x**6)\n",
    "f"
   ]
  },
  {
   "cell_type": "code",
   "execution_count": 58,
   "id": "4e231e60-9ae1-46ff-9552-094208b83e38",
   "metadata": {},
   "outputs": [
    {
     "data": {
      "text/latex": [
       "$\\displaystyle 3 x^{2} + 1$"
      ],
      "text/plain": [
       "3*x**2 + 1"
      ]
     },
     "execution_count": 58,
     "metadata": {},
     "output_type": "execute_result"
    }
   ],
   "source": [
    "#oppgave 20,1,j)\n",
    "f=sp.diff(x*(x**2 +1))\n",
    "f"
   ]
  },
  {
   "cell_type": "code",
   "execution_count": 52,
   "id": "21495f6f-ca72-4f41-87c6-fa72cb5f0b4b",
   "metadata": {},
   "outputs": [
    {
     "data": {
      "text/latex": [
       "$\\displaystyle 2 x - \\frac{12}{x^{4}}$"
      ],
      "text/plain": [
       "2*x - 12/x**4"
      ]
     },
     "execution_count": 52,
     "metadata": {},
     "output_type": "execute_result"
    }
   ],
   "source": [
    "#oppgave 20,1,h)\n",
    "f=sp.diff(x**2 + 4 / x**3 -1)\n",
    "f"
   ]
  },
  {
   "cell_type": "code",
   "execution_count": 55,
   "id": "ad5bf6b3-8b84-40eb-b724-3b8a4170f7cf",
   "metadata": {},
   "outputs": [
    {
     "data": {
      "text/latex": [
       "$\\displaystyle 2 x$"
      ],
      "text/plain": [
       "2*x"
      ]
     },
     "execution_count": 55,
     "metadata": {},
     "output_type": "execute_result"
    }
   ],
   "source": [
    "#oppgave 20,1,L)\n",
    "f=sp.diff(x**2/x**2+x**2)\n",
    "f"
   ]
  },
  {
   "cell_type": "code",
   "execution_count": 59,
   "id": "240799bc-84c9-48c8-8d5c-4b86a0e1122c",
   "metadata": {},
   "outputs": [
    {
     "data": {
      "text/latex": [
       "$\\displaystyle 2 x + 4 - \\frac{2}{x^{2}}$"
      ],
      "text/plain": [
       "2*x + 4 - 2/x**2"
      ]
     },
     "execution_count": 59,
     "metadata": {},
     "output_type": "execute_result"
    }
   ],
   "source": [
    "#oppgave 20,1,m)\n",
    "f=sp.diff(x**2 + 4*x +2/x - 2)\n",
    "f"
   ]
  },
  {
   "cell_type": "code",
   "execution_count": 60,
   "id": "55f745c5-8608-4f2a-9b8b-f2101045a60d",
   "metadata": {},
   "outputs": [
    {
     "data": {
      "text/latex": [
       "$\\displaystyle 3 x^{2} + \\frac{2}{x^{2}}$"
      ],
      "text/plain": [
       "3*x**2 + 2/x**2"
      ]
     },
     "execution_count": 60,
     "metadata": {},
     "output_type": "execute_result"
    }
   ],
   "source": [
    "#oppgave 20,2,a)\n",
    "f=sp.diff(x**3 - 2*x/x**2 - 1)\n",
    "f\n"
   ]
  },
  {
   "cell_type": "code",
   "execution_count": 65,
   "id": "e8a13457-4bbe-4a86-b469-04c6965b4da5",
   "metadata": {},
   "outputs": [
    {
     "data": {
      "text/latex": [
       "$\\displaystyle 2 x \\left(x^{2} - 1\\right)$"
      ],
      "text/plain": [
       "2*x*(x**2 - 1)"
      ]
     },
     "execution_count": 65,
     "metadata": {},
     "output_type": "execute_result"
    }
   ],
   "source": [
    "#oppgave 20,2,b)\n",
    "f=sp.diff(x**2 + 1)*(x**2 - 1)\n",
    "f"
   ]
  },
  {
   "cell_type": "code",
   "execution_count": 66,
   "id": "f6ce817c-ca79-40d0-bb71-3f2172c415ed",
   "metadata": {},
   "outputs": [
    {
     "data": {
      "text/latex": [
       "$\\displaystyle 3 + \\frac{12}{x^{4}}$"
      ],
      "text/plain": [
       "3 + 12/x**4"
      ]
     },
     "execution_count": 66,
     "metadata": {},
     "output_type": "execute_result"
    }
   ],
   "source": [
    "#oppgave 20,2,c)\n",
    "f=sp.diff(3*x - 4/x**3 + 7)\n",
    "f"
   ]
  },
  {
   "cell_type": "code",
   "execution_count": 72,
   "id": "60dd7349-4d16-469c-99bf-e915a5526040",
   "metadata": {},
   "outputs": [
    {
     "data": {
      "text/latex": [
       "$\\displaystyle \\left(15 x^{2} + 30\\right) \\left(x^{3} + 6 x\\right)^{4}$"
      ],
      "text/plain": [
       "(15*x**2 + 30)*(x**3 + 6*x)**4"
      ]
     },
     "execution_count": 72,
     "metadata": {},
     "output_type": "execute_result"
    }
   ],
   "source": [
    "#oppgave 21,1,a)\n",
    "f=sp.diff((x**3 + 6*x)**5)\n",
    "f"
   ]
  },
  {
   "cell_type": "code",
   "execution_count": 80,
   "id": "44286fda-b303-4a3e-8963-dd077bc43aa9",
   "metadata": {},
   "outputs": [
    {
     "data": {
      "text/latex": [
       "$\\displaystyle 2.0 x$"
      ],
      "text/plain": [
       "2.0*x"
      ]
     },
     "execution_count": 80,
     "metadata": {},
     "output_type": "execute_result"
    }
   ],
   "source": [
    "#oppgave 21,1,b)\n",
    "f=sp.diff(1/2*2*x**2+5)\n",
    "f"
   ]
  },
  {
   "cell_type": "code",
   "execution_count": 83,
   "id": "cfe78aff-6b7f-4359-ab83-a057a5cb4388",
   "metadata": {},
   "outputs": [
    {
     "data": {
      "text/latex": [
       "$\\displaystyle - \\frac{8 \\left(3 + \\frac{2}{x}\\right)^{3}}{x^{2}}$"
      ],
      "text/plain": [
       "-8*(3 + 2/x)**3/x**2"
      ]
     },
     "execution_count": 83,
     "metadata": {},
     "output_type": "execute_result"
    }
   ],
   "source": [
    "#oppgave 21,1,c)\n",
    "\n",
    "f=sp.diff((2*x/x**2+3)**4)\n",
    "f"
   ]
  },
  {
   "cell_type": "code",
   "execution_count": 85,
   "id": "5955a241-5500-49b8-be70-fe094bd44a87",
   "metadata": {},
   "outputs": [
    {
     "data": {
      "text/latex": [
       "$\\displaystyle 12 x^{3} \\left(2 x^{4} + 9\\right)^{2}$"
      ],
      "text/plain": [
       "12*x**3*(2*x**4 + 9)**2"
      ]
     },
     "execution_count": 85,
     "metadata": {},
     "output_type": "execute_result"
    }
   ],
   "source": [
    "#oppgave 21,1,d)\n",
    "f=sp.diff((2*x**4 + 9)**3/2)\n",
    "f"
   ]
  },
  {
   "cell_type": "code",
   "execution_count": 86,
   "id": "61853f8e-8f59-427c-9926-82bdb3cdd07a",
   "metadata": {},
   "outputs": [
    {
     "data": {
      "text/latex": [
       "$\\displaystyle 2 x$"
      ],
      "text/plain": [
       "2*x"
      ]
     },
     "execution_count": 86,
     "metadata": {},
     "output_type": "execute_result"
    }
   ],
   "source": [
    "#oppgave 21,1,e)\n",
    "f=sp.diff(1/1/2*1+ x**2)\n",
    "f"
   ]
  },
  {
   "cell_type": "code",
   "execution_count": 87,
   "id": "92d51c3c-e1a7-4d81-8c72-6bb484aa3ae7",
   "metadata": {},
   "outputs": [
    {
     "data": {
      "text/latex": [
       "$\\displaystyle x^{2} \\left(6 x + 6\\right) \\left(x^{2} + 2 x\\right)^{2} + 2 x \\left(x^{2} + 2 x\\right)^{3}$"
      ],
      "text/plain": [
       "x**2*(6*x + 6)*(x**2 + 2*x)**2 + 2*x*(x**2 + 2*x)**3"
      ]
     },
     "execution_count": 87,
     "metadata": {},
     "output_type": "execute_result"
    }
   ],
   "source": [
    "#oppgave 21,1,f\n",
    "f=sp.diff(x**2 *(x**2 + 2*x)**3)\n",
    "f"
   ]
  },
  {
   "cell_type": "code",
   "execution_count": 89,
   "id": "cb55e8e6-c9f4-4e8e-8f96-5578be598e95",
   "metadata": {},
   "outputs": [
    {
     "data": {
      "text/latex": [
       "$\\displaystyle 2 x^{3} - 2$"
      ],
      "text/plain": [
       "2*x**3 - 2"
      ]
     },
     "execution_count": 89,
     "metadata": {},
     "output_type": "execute_result"
    }
   ],
   "source": [
    "#oppgave 21,1,g)\n",
    "f=sp.diff(x**2 * 1/2*x**2-2*x)\n",
    "f"
   ]
  },
  {
   "cell_type": "code",
   "execution_count": 90,
   "id": "891244ef-be02-40c3-8680-48566cae8358",
   "metadata": {},
   "outputs": [
    {
     "data": {
      "text/latex": [
       "$\\displaystyle \\frac{x^{2} \\left(- 6 x - 3\\right)}{\\left(x^{2} + x\\right)^{4}} + \\frac{2 x}{\\left(x^{2} + x\\right)^{3}}$"
      ],
      "text/plain": [
       "x**2*(-6*x - 3)/(x**2 + x)**4 + 2*x/(x**2 + x)**3"
      ]
     },
     "execution_count": 90,
     "metadata": {},
     "output_type": "execute_result"
    }
   ],
   "source": [
    "#oppgave 21,1,h)\n",
    "f=sp.diff(x**2/(x**2+x)**3)\n",
    "f\n"
   ]
  },
  {
   "cell_type": "code",
   "execution_count": 92,
   "id": "e67eb19d-1475-4220-b7b8-a8fa6cb08e1f",
   "metadata": {},
   "outputs": [
    {
     "data": {
      "text/latex": [
       "$\\displaystyle 9 x^{2} \\left(x^{2} + 1\\right)^{2} \\left(x^{3} + 1\\right)^{2} + 4 x \\left(x^{2} + 1\\right) \\left(x^{3} + 1\\right)^{3}$"
      ],
      "text/plain": [
       "9*x**2*(x**2 + 1)**2*(x**3 + 1)**2 + 4*x*(x**2 + 1)*(x**3 + 1)**3"
      ]
     },
     "execution_count": 92,
     "metadata": {},
     "output_type": "execute_result"
    }
   ],
   "source": [
    "#oppgave 21,1,i)\n",
    "f=sp.diff((x**2 + 1)**2 * (x**3 + 1)**3)\n",
    "f"
   ]
  },
  {
   "cell_type": "code",
   "execution_count": 93,
   "id": "a1e66e0a-ce14-461a-a68d-1c2d3b0ea1be",
   "metadata": {},
   "outputs": [
    {
     "data": {
      "text/latex": [
       "$\\displaystyle 0.5 \\left(24 x + 8\\right) \\left(3 x^{2} + 2 x\\right)^{3}$"
      ],
      "text/plain": [
       "0.5*(24*x + 8)*(3*x**2 + 2*x)**3"
      ]
     },
     "execution_count": 93,
     "metadata": {},
     "output_type": "execute_result"
    }
   ],
   "source": [
    "#oppgave 21,2,a)\n",
    "f=sp.diff(1/2*(3*x**2+2*x)**4)\n",
    "f"
   ]
  },
  {
   "cell_type": "code",
   "execution_count": 95,
   "id": "88a02f42-d3e0-4593-a11c-55cb66a69f11",
   "metadata": {},
   "outputs": [
    {
     "data": {
      "text/latex": [
       "$\\displaystyle 15 x^{2} \\left(x^{2} + 3\\right)^{4} \\left(x^{3} + 3\\right)^{4}$"
      ],
      "text/plain": [
       "15*x**2*(x**2 + 3)**4*(x**3 + 3)**4"
      ]
     },
     "execution_count": 95,
     "metadata": {},
     "output_type": "execute_result"
    }
   ],
   "source": [
    "#oppgave 21,2,b)\n",
    "f=sp.diff((x**3+3)**5)*((x**2+3)**4)\n",
    "f"
   ]
  },
  {
   "cell_type": "code",
   "execution_count": 105,
   "id": "76b5cef9-2ffc-47f4-8208-4b1dc658b9cd",
   "metadata": {},
   "outputs": [
    {
     "data": {
      "text/latex": [
       "$\\displaystyle 1.0 x^{3} + 2 x \\left(0.5 x^{2} + 1\\right)$"
      ],
      "text/plain": [
       "1.0*x**3 + 2*x*(0.5*x**2 + 1)"
      ]
     },
     "execution_count": 105,
     "metadata": {},
     "output_type": "execute_result"
    }
   ],
   "source": [
    "#oppgave 21,2,c)\n",
    "f=sp.diff((1/2*x**2+1)*x**2)\n",
    "f"
   ]
  },
  {
   "cell_type": "code",
   "execution_count": 108,
   "id": "1582faad-6a6c-434f-8a3b-f3939b4b3512",
   "metadata": {},
   "outputs": [
    {
     "data": {
      "text/latex": [
       "$\\displaystyle \\frac{24 x^{7} + 2}{x^{2}} - \\frac{2 \\left(3 x^{8} + 2 x\\right)}{x^{3}}$"
      ],
      "text/plain": [
       "(24*x**7 + 2)/x**2 - 2*(3*x**8 + 2*x)/x**3"
      ]
     },
     "execution_count": 108,
     "metadata": {},
     "output_type": "execute_result"
    }
   ],
   "source": [
    "#oppgave 21,2,d)\n",
    "f=sp.diff((2*x + 3*x**2**3)/x**2)\n",
    "f"
   ]
  },
  {
   "cell_type": "code",
   "execution_count": 109,
   "id": "0ae936d7-c852-4942-8ac7-622d47bcfb53",
   "metadata": {},
   "outputs": [],
   "source": [
    "#oppgave 21,2,e)\n",
    "f=sp.diff()"
   ]
  },
  {
   "cell_type": "code",
   "execution_count": 112,
   "id": "560acbc7-8dd7-4241-8ae7-5e5c4c16b560",
   "metadata": {},
   "outputs": [
    {
     "data": {
      "text/latex": [
       "$\\displaystyle \\frac{7 x^{6}}{2}$"
      ],
      "text/plain": [
       "7*x**6/2"
      ]
     },
     "execution_count": 112,
     "metadata": {},
     "output_type": "execute_result"
    }
   ],
   "source": [
    "#oppgave 21,2,f)\n",
    "f=sp.diff(x**3/1/2*x**4-1)\n",
    "f"
   ]
  },
  {
   "cell_type": "code",
   "execution_count": 120,
   "id": "dabdff95-7ce1-487c-ab7f-914542bd4eed",
   "metadata": {},
   "outputs": [
    {
     "data": {
      "text/latex": [
       "$\\displaystyle \\frac{1}{x}$"
      ],
      "text/plain": [
       "1/x"
      ]
     },
     "execution_count": 120,
     "metadata": {},
     "output_type": "execute_result"
    }
   ],
   "source": [
    "#oppgave 22,1,A)\n",
    "f=(sp.log(5*x))\n",
    "derivate_f = sp.diff(f)\n",
    "derivate_f"
   ]
  },
  {
   "cell_type": "code",
   "execution_count": 125,
   "id": "6d1dd1c7-9587-4d65-8df9-3bd88f953d92",
   "metadata": {},
   "outputs": [
    {
     "data": {
      "text/latex": [
       "$\\displaystyle - 2 e^{- 2 x}$"
      ],
      "text/plain": [
       "-2*exp(-2*x)"
      ]
     },
     "execution_count": 125,
     "metadata": {},
     "output_type": "execute_result"
    }
   ],
   "source": [
    "#oppgave 22,1,b)\n",
    "f= sp.exp(-2*x)\n",
    "derivate_f = f.diff(x)\n",
    "derivate_f"
   ]
  },
  {
   "cell_type": "code",
   "execution_count": 126,
   "id": "8bbd977e-c8c4-4240-9733-a3d6ef89fa42",
   "metadata": {},
   "outputs": [
    {
     "data": {
      "text/latex": [
       "$\\displaystyle \\frac{1}{x}$"
      ],
      "text/plain": [
       "1/x"
      ]
     },
     "execution_count": 126,
     "metadata": {},
     "output_type": "execute_result"
    }
   ],
   "source": [
    "#oppgave 22,1,c)\n",
    "f =(sp.log(12*x)-3)\n",
    "derivate_f = f.diff(x)\n",
    "derivate_f"
   ]
  },
  {
   "cell_type": "code",
   "execution_count": 129,
   "id": "eccc45d5-d8c7-435d-a8d2-dddae7c41da6",
   "metadata": {},
   "outputs": [
    {
     "data": {
      "text/latex": [
       "$\\displaystyle 2^{x} \\log{\\left(2 \\right)}$"
      ],
      "text/plain": [
       "2**x*log(2)"
      ]
     },
     "execution_count": 129,
     "metadata": {},
     "output_type": "execute_result"
    }
   ],
   "source": [
    "#oppgave 22,1,d)\n",
    "f=sp.diff(2**x)\n",
    "f"
   ]
  },
  {
   "cell_type": "code",
   "execution_count": 130,
   "id": "beed5c86-8566-49fb-aaeb-126b7da0d103",
   "metadata": {},
   "outputs": [
    {
     "data": {
      "text/latex": [
       "$\\displaystyle 3 e^{3 x + 5}$"
      ],
      "text/plain": [
       "3*exp(3*x + 5)"
      ]
     },
     "execution_count": 130,
     "metadata": {},
     "output_type": "execute_result"
    }
   ],
   "source": [
    "#oppgave 22,1,e)\n",
    "f=sp.exp(3*x+5)\n",
    "derivate_f = f.diff(x)\n",
    "derivate_f"
   ]
  },
  {
   "cell_type": "code",
   "execution_count": 131,
   "id": "832657f7-d561-41b8-bbec-c41fd2a278b5",
   "metadata": {},
   "outputs": [
    {
     "data": {
      "text/latex": [
       "$\\displaystyle \\frac{5 x^{4}}{x^{5} + 1}$"
      ],
      "text/plain": [
       "5*x**4/(x**5 + 1)"
      ]
     },
     "execution_count": 131,
     "metadata": {},
     "output_type": "execute_result"
    }
   ],
   "source": [
    "#oppgave 22,1,f)\n",
    "f=sp.log(x**5+1)\n",
    "s = f.diff(x)\n",
    "s"
   ]
  },
  {
   "cell_type": "code",
   "execution_count": 132,
   "id": "e5bbc6fd-0223-4ec0-86bb-5a4b055c3885",
   "metadata": {},
   "outputs": [
    {
     "data": {
      "text/latex": [
       "$\\displaystyle \\left(8 x + 8\\right) e^{4 x^{2} + 8 x}$"
      ],
      "text/plain": [
       "(8*x + 8)*exp(4*x**2 + 8*x)"
      ]
     },
     "execution_count": 132,
     "metadata": {},
     "output_type": "execute_result"
    }
   ],
   "source": [
    "#oppgave 22,1,g)\n",
    "f=sp.exp(4*x**2+8*x)\n",
    "s=f.diff(x)\n",
    "s"
   ]
  },
  {
   "cell_type": "code",
   "execution_count": 134,
   "id": "c8d1a0ce-3c47-43c3-a29e-677064b3ed90",
   "metadata": {
    "tags": []
   },
   "outputs": [
    {
     "data": {
      "text/latex": [
       "$\\displaystyle - \\frac{1}{x}$"
      ],
      "text/plain": [
       "-1/x"
      ]
     },
     "execution_count": 134,
     "metadata": {},
     "output_type": "execute_result"
    }
   ],
   "source": [
    "#oppgave 22,1,h)\n",
    "f=sp.log((1/x))\n",
    "s=f.diff(x)\n",
    "s"
   ]
  },
  {
   "cell_type": "code",
   "execution_count": 208,
   "id": "e980b0fd-df49-4601-a47f-b97bbbd990ca",
   "metadata": {},
   "outputs": [
    {
     "data": {
      "text/latex": [
       "$\\displaystyle \\frac{6}{x}$"
      ],
      "text/plain": [
       "6/x"
      ]
     },
     "execution_count": 208,
     "metadata": {},
     "output_type": "execute_result"
    }
   ],
   "source": [
    "#oppgave 22,1,i)\n",
    "f=6*sp.log(x)\n",
    "s=f.diff(x)\n",
    "s\n"
   ]
  },
  {
   "cell_type": "code",
   "execution_count": 180,
   "id": "18c33798-8eba-463a-8266-6a270deb3252",
   "metadata": {},
   "outputs": [
    {
     "data": {
      "text/latex": [
       "$\\displaystyle - x e^{- x} + e^{- x}$"
      ],
      "text/plain": [
       "-x*exp(-x) + exp(-x)"
      ]
     },
     "execution_count": 180,
     "metadata": {},
     "output_type": "execute_result"
    }
   ],
   "source": [
    "#oppgave 22,1,j)\n",
    "f= x*sp.exp(-x)\n",
    "b= f.diff(x)\n",
    "b"
   ]
  },
  {
   "cell_type": "code",
   "execution_count": 181,
   "id": "b5b7e9cb-4dab-402d-ba03-9aa2d8184484",
   "metadata": {},
   "outputs": [
    {
     "data": {
      "text/latex": [
       "$\\displaystyle \\frac{2 x^{3}}{x^{2} + 2} + 2 x \\log{\\left(x^{2} + 2 \\right)}$"
      ],
      "text/plain": [
       "2*x**3/(x**2 + 2) + 2*x*log(x**2 + 2)"
      ]
     },
     "execution_count": 181,
     "metadata": {},
     "output_type": "execute_result"
    }
   ],
   "source": [
    "#oppgave 22,1,k)\n",
    "f=sp.log(x**2+2)*x**2\n",
    "b=f.diff(x)\n",
    "b"
   ]
  },
  {
   "cell_type": "code",
   "execution_count": 216,
   "id": "4e970ddc-7a13-45ea-ba23-214b74d7c018",
   "metadata": {},
   "outputs": [
    {
     "data": {
      "text/latex": [
       "$\\displaystyle 2 x^{3} e^{2 x} + 3 x^{2} e^{2 x}$"
      ],
      "text/plain": [
       "2*x**3*exp(2*x) + 3*x**2*exp(2*x)"
      ]
     },
     "execution_count": 216,
     "metadata": {},
     "output_type": "execute_result"
    }
   ],
   "source": [
    "#oppgave 22,2,a)\n",
    "from sympy import *\n",
    "x= sp.Symbol('x')\n",
    "y = (x**3)*(sp.exp(2*x))\n",
    "deriv = sp.Derivative(y, x)\n",
    "deriv.doit()"
   ]
  },
  {
   "cell_type": "code",
   "execution_count": 219,
   "id": "3b1f7d55-5117-42f4-8fd4-cd28ed5ede78",
   "metadata": {},
   "outputs": [
    {
     "data": {
      "text/latex": [
       "$\\displaystyle \\frac{2 x + \\frac{2}{x^{3}}}{x^{2} - 1 - \\frac{1}{x^{2}}}$"
      ],
      "text/plain": [
       "(2*x + 2/x**3)/(x**2 - 1 - 1/x**2)"
      ]
     },
     "execution_count": 219,
     "metadata": {},
     "output_type": "execute_result"
    }
   ],
   "source": [
    "#oppgave 22,2,b)\n",
    "x = sp.Symbol('x')\n",
    "y = sp.log(x**2-1/x**2-1)\n",
    "deriv = sp.Derivative(y,x)\n",
    "deriv.doit()"
   ]
  },
  {
   "cell_type": "code",
   "execution_count": 221,
   "id": "1c8149cd-4b3d-40f4-ae7c-accecb5e9ce2",
   "metadata": {},
   "outputs": [
    {
     "data": {
      "text/latex": [
       "$\\displaystyle \\frac{2 x^{3}}{x^{2} + 2} + 2 x \\log{\\left(x^{2} + 2 \\right)}$"
      ],
      "text/plain": [
       "2*x**3/(x**2 + 2) + 2*x*log(x**2 + 2)"
      ]
     },
     "execution_count": 221,
     "metadata": {},
     "output_type": "execute_result"
    }
   ],
   "source": [
    "#oppgave 22,2,c)\n",
    "x = sp.Symbol('x')\n",
    "y = (x**2) * sp.log(x**2+2)\n",
    "deriv = sp.Derivative(y,x)\n",
    "deriv.doit()"
   ]
  },
  {
   "cell_type": "code",
   "execution_count": 237,
   "id": "a57e3e36-a9c2-48de-9bbe-ee369c8955eb",
   "metadata": {},
   "outputs": [
    {
     "data": {
      "text/latex": [
       "$\\displaystyle - \\frac{2 x e^{\\frac{1}{x^{2} + 1}}}{\\left(x^{2} + 1\\right)^{2}}$"
      ],
      "text/plain": [
       "-2*x*exp(1/(x**2 + 1))/(x**2 + 1)**2"
      ]
     },
     "execution_count": 237,
     "metadata": {},
     "output_type": "execute_result"
    }
   ],
   "source": [
    "#oppgave 22,2,d)\n",
    "y = sp.exp(1**(-x)/(x**2+1))\n",
    "deriv = sp.Derivative(y,x)\n",
    "deriv.doit()\n"
   ]
  },
  {
   "cell_type": "code",
   "execution_count": null,
   "id": "359dd507-4899-4cfe-99a4-79cf01c6eab0",
   "metadata": {},
   "outputs": [],
   "source": []
  }
 ],
 "metadata": {
  "kernelspec": {
   "display_name": "Python 3 (ipykernel)",
   "language": "python",
   "name": "python3"
  },
  "language_info": {
   "codemirror_mode": {
    "name": "ipython",
    "version": 3
   },
   "file_extension": ".py",
   "mimetype": "text/x-python",
   "name": "python",
   "nbconvert_exporter": "python",
   "pygments_lexer": "ipython3",
   "version": "3.9.5"
  }
 },
 "nbformat": 4,
 "nbformat_minor": 5
}
